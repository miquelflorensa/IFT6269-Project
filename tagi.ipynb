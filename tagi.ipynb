{
 "cells": [
  {
   "cell_type": "markdown",
   "metadata": {},
   "source": [
    "# Tractable Gaussian Approximate Infernece"
   ]
  },
  {
   "cell_type": "code",
   "execution_count": 92,
   "metadata": {},
   "outputs": [],
   "source": [
    "import numpy as np\n",
    "import matplotlib.pyplot as plt"
   ]
  },
  {
   "cell_type": "code",
   "execution_count": 93,
   "metadata": {},
   "outputs": [],
   "source": [
    "import numpy as np\n",
    "import matplotlib.pyplot as plt\n",
    "\n",
    "class TAGI:\n",
    "    def __init__(self, layers):\n",
    "        '''\n",
    "        Initialize the TAGI model.\n",
    "\n",
    "        Input:\n",
    "        layers: list of integers, specifying the number of neurons in each layer.\n",
    "\n",
    "        Output:\n",
    "        Initializes the model parameters and hidden states.\n",
    "        '''\n",
    "        self.layers = layers\n",
    "        self.parameters = self.init_parameters(layers)\n",
    "        self.hidden_states = self.init_hidden_states(layers)\n",
    "        self.mu = 0\n",
    "        self.sigma = 1\n",
    "\n",
    "    def standardize_data(self, X):\n",
    "        '''\n",
    "        Standardize the input data by subtracting the mean and dividing by the standard deviation.\n",
    "\n",
    "        Input:\n",
    "        X: ndarray of shape (n_samples), the input data.\n",
    "\n",
    "        Output:\n",
    "        ndarray of shape (n_samples), the standardized data.\n",
    "        '''\n",
    "        self.mu = np.mean(X)\n",
    "        self.sigma = np.std(X)\n",
    "        return (X - self.mu) / self.sigma\n",
    "\n",
    "    def unstandardize_data(self, X):\n",
    "        '''\n",
    "        Convert standardized data back to its original scale.\n",
    "\n",
    "        Input:\n",
    "        X: ndarray of shape (n_samples), the standardized data.\n",
    "\n",
    "        Output:\n",
    "        ndarray of shape (n_samples), the unstandardized data.\n",
    "        '''\n",
    "        return X * self.sigma + self.mu\n",
    "\n",
    "    def init_parameters(self, layers):\n",
    "        '''\n",
    "        Initialize weights and biases for each layer.\n",
    "\n",
    "        Input:\n",
    "        layers: list of integers, specifying the number of neurons in each layer.\n",
    "\n",
    "        Output:\n",
    "        parameters: list of dictionaries, where each dictionary contains:\n",
    "            - muW: ndarray of shape (n_inputs, n_outputs), the mean values of the weights.\n",
    "            - varW: ndarray of shape (n_inputs, n_outputs), the variances of the weights.\n",
    "            - mub: ndarray of shape (n_outputs,), the mean values of the biases.\n",
    "            - varb: ndarray of shape (n_outputs,), the variances of the biases.\n",
    "        '''\n",
    "        parameters = []\n",
    "        for i in range(len(layers) - 1):\n",
    "            input_size = layers[i]\n",
    "            output_size = layers[i + 1]\n",
    "            parameters.append({\n",
    "                'muW': np.random.randn(input_size, output_size),\n",
    "                'varW': np.ones((input_size, output_size)) / input_size,\n",
    "                'mub': np.random.randn(output_size),\n",
    "                'varb': np.ones(output_size) / input_size\n",
    "            })\n",
    "        return parameters\n",
    "\n",
    "    def init_hidden_states(self, layers):\n",
    "        '''\n",
    "        Initialize the hidden states for each layer.\n",
    "\n",
    "        Input:\n",
    "        layers: list of integers, specifying the number of neurons in each layer.\n",
    "\n",
    "        Output:\n",
    "        hidden_states: list of dictionaries, where each dictionary contains:\n",
    "            - 'muA': ndarray of shape (n_neurons), the mean values of the activation units.\n",
    "            - 'varA': ndarray of shape (n_neurons), the variances of the activation units.\n",
    "        '''\n",
    "        hidden_states = []\n",
    "        for layer_size in layers:\n",
    "            hidden_states.append({\n",
    "                'muA': np.zeros(layer_size),\n",
    "                'varA': np.ones(layer_size)\n",
    "            })\n",
    "        return hidden_states\n",
    "\n",
    "    def GMA(self, muA, varA, muW, varW):\n",
    "        '''\n",
    "        Gaussian Multiplicative Approximation (GMA)\n",
    "\n",
    "        Input:\n",
    "        muA: ndarray of shape (n_inputs,), mean values of the activation units.\n",
    "        varA: ndarray of shape (n_inputs,), variances of the activation units.\n",
    "        muW: ndarray of shape (n_inputs, n_outputs), mean values of the weights.\n",
    "        varW: ndarray of shape (n_inputs, n_outputs), variances of the weights.\n",
    "\n",
    "        Output:\n",
    "        mu: ndarray of shape (n_outputs,), the means of the next hidden layer.\n",
    "        var: ndarray of shape (n_outputs,), the variances of the next hidden layer.\n",
    "\n",
    "        Remember that in GMA, given X1 and X2 random gaussian variables,\n",
    "        Expected value: E[X1 * X2] = μ1 * μ2 + cov(X1, X2)\n",
    "        Variance: var[X1 * X2] = var(X1) * var(X2) + cov(X1, X2)^2 + μ1^2 * var(X2) + μ2^2 * var(X1)\n",
    "\n",
    "        Also remebmer that the activation units and the weights are independent in a neural network.\n",
    "        '''\n",
    "        # Dummy implementation\n",
    "        mu = muA\n",
    "        var = varA\n",
    "\n",
    "        return mu, var\n",
    "\n",
    "    def forward(self, X):\n",
    "        '''\n",
    "        Perform a forward pass through the network using GMA.\n",
    "\n",
    "        Input:\n",
    "        X: ndarray of shape (n_inputs,), the input data.\n",
    "\n",
    "        Output:\n",
    "        Y: ndarray of shape (n_outputs,), the output values.\n",
    "        '''\n",
    "        \n",
    "        # Dummy implementation\n",
    "        Y = X\n",
    "\n",
    "        return Y\n",
    "\n",
    "    def backward(self, Y):\n",
    "        '''\n",
    "        Perform a backward pass through the network using Bayesian inference.\n",
    "\n",
    "        Input:\n",
    "        Y: ndarray of shape (n_outputs,), the output values.\n",
    "\n",
    "        We are just gonna update the parameters and not the hidden states.\n",
    "        '''\n",
    "\n",
    "        # To-do: Implement backward pass using Bayesian update logic).\n",
    "        \n",
    "        pass"
   ]
  },
  {
   "cell_type": "code",
   "execution_count": 95,
   "metadata": {},
   "outputs": [
    {
     "data": {
      "text/plain": [
       "<matplotlib.collections.PathCollection at 0x1260ea1f0>"
      ]
     },
     "execution_count": 95,
     "metadata": {},
     "output_type": "execute_result"
    },
    {
     "data": {
      "image/png": "[encoded data removed]",
      "text/plain": [
       "<Figure size 640x480 with 1 Axes>"
      ]
     },
     "metadata": {},
     "output_type": "display_data"
    }
   ],
   "source": [
    "# Generate data\n",
    "X = np.linspace(0, 10, 100).reshape(-1, 1)  # Ensure X is 2D\n",
    "Y = (np.sin(X).flatten() + np.random.normal(0, 0.1, 100)) * 10\n",
    "\n",
    "# Shuffle data\n",
    "indices = np.arange(100)\n",
    "np.random.shuffle(indices)\n",
    "X = X[indices]\n",
    "Y = Y[indices].reshape(-1, 1)\n",
    "\n",
    "# Split data\n",
    "train_X, test_X = X[:80], X[80:]\n",
    "train_Y, test_Y = Y[:80], Y[80:]\n",
    "\n",
    "# Plot the training data\n",
    "plt.scatter(train_X, train_Y, marker='o', color='b')"
   ]
  },
  {
   "cell_type": "code",
   "execution_count": 96,
   "metadata": {},
   "outputs": [],
   "source": [
    "\n",
    "# Train\n",
    "net = TAGI([1, 50, 1])\n",
    "train_X = net.standardize_data(train_X)\n",
    "train_Y = net.standardize_data(train_Y)\n",
    "\n",
    "epochs = 10\n",
    "for epoch in range(epochs):\n",
    "    for x, y in zip(train_X, train_Y):\n",
    "        net.forward(x)\n",
    "        net.backward(y)"
   ]
  },
  {
   "cell_type": "code",
   "execution_count": 97,
   "metadata": {},
   "outputs": [],
   "source": [
    "# Predict\n",
    "test_Y_pred = []\n",
    "for x in test_X:\n",
    "    prediction = net.forward(x)\n",
    "    test_Y_pred.append(prediction)\n",
    "test_Y_pred = np.array(test_Y_pred).flatten()\n",
    "test_Y_pred = net.unstandardize_data(test_Y_pred)"
   ]
  },
  {
   "cell_type": "code",
   "execution_count": 98,
   "metadata": {},
   "outputs": [
    {
     "data": {
      "image/png": "[encoded data removed]",
      "text/plain": [
       "<Figure size 640x480 with 1 Axes>"
      ]
     },
     "metadata": {},
     "output_type": "display_data"
    }
   ],
   "source": [
    "# Plot\n",
    "plt.scatter(test_X.flatten(), test_Y, color='blue', label='True')\n",
    "plt.plot(test_X.flatten(), test_Y_pred.flatten(), color='red', label='Predicted')\n",
    "plt.legend()\n",
    "plt.show()"
   ]
  }
 ],
 "metadata": {
  "kernelspec": {
   "display_name": "Python 3",
   "language": "python",
   "name": "python3"
  },
  "language_info": {
   "codemirror_mode": {
    "name": "ipython",
    "version": 3
   },
   "file_extension": ".py",
   "mimetype": "text/x-python",
   "name": "python",
   "nbconvert_exporter": "python",
   "pygments_lexer": "ipython3",
   "version": "3.9.6"
  }
 },
 "nbformat": 4,
 "nbformat_minor": 2
}
